{
  "nbformat": 4,
  "nbformat_minor": 0,
  "metadata": {
    "colab": {
      "name": "arithmetic_arranger.ipynb",
      "provenance": [],
      "collapsed_sections": [],
      "authorship_tag": "ABX9TyOIdPTFfn35E+HjMHKrhjEa",
      "include_colab_link": true
    },
    "kernelspec": {
      "name": "python3",
      "display_name": "Python 3"
    },
    "language_info": {
      "name": "python"
    }
  },
  "cells": [
    {
      "cell_type": "markdown",
      "metadata": {
        "id": "view-in-github",
        "colab_type": "text"
      },
      "source": [
        "<a href=\"https://colab.research.google.com/github/awazbhujel/FreeCodeCamp_projects/blob/master/arithmetic_arranger.ipynb\" target=\"_parent\"><img src=\"https://colab.research.google.com/assets/colab-badge.svg\" alt=\"Open In Colab\"/></a>"
      ]
    },
    {
      "cell_type": "code",
      "execution_count": 26,
      "metadata": {
        "id": "J3nTPXjd5khj"
      },
      "outputs": [],
      "source": [
        "def arithmetic_arranger(problems, answer=False):\n",
        "    # Check the number of problems\n",
        "    if len(problems) > 5:\n",
        "        return \"Error: Too many problems.\"\n",
        "    \n",
        "    first_operand = []\n",
        "    second_operand = []\n",
        "    operator = []\n",
        "\n",
        "    for problem in problems:\n",
        "        pieces = problem.split()\n",
        "        first_operand.append(pieces[0])\n",
        "        operator.append(pieces[1])\n",
        "        second_operand.append(pieces[2])\n",
        "\n",
        "    # Check for * or /\n",
        "    if \"*\" in operator or \"/\" in operator:\n",
        "        return \"Error: Operator must be '+' or '-'.\"\n",
        "\n",
        "    # Check the digits\n",
        "    for i in range(len(first_operand)):\n",
        "        if not (first_operand[i].isdigit() and second_operand[i].isdigit()):\n",
        "            return \"Error: Numbers must only contain digits.\"\n",
        "\n",
        "    # Check the length\n",
        "    for i in range(len(first_operand)):\n",
        "        if len(first_operand[i]) > 4 or len(second_operand[i]) > 4:\n",
        "            return \"Error: Numbers cannot be more than four digits.\"\n",
        "\n",
        "    first_line = []\n",
        "    second_line = []\n",
        "    third_line = []\n",
        "    fourth_line = []\n",
        "\n",
        "    for i in range(len(first_operand)):\n",
        "        if len(first_operand[i]) > len(second_operand[i]):\n",
        "            first_line.append(\" \"*2 + first_operand[i])\n",
        "        else:\n",
        "            first_line.append(\" \"*(len(second_operand[i]) - len(first_operand[i]) + 2) + first_operand[i])\n",
        "\n",
        "    for i in range(len(second_operand)):\n",
        "        if len(second_operand[i]) > len(first_operand[i]):\n",
        "            second_line.append(operator[i] + \" \" + second_operand[i])\n",
        "        else:\n",
        "            second_line.append(operator[i] + \" \"*(len(first_operand[i]) - len(second_operand[i]) + 1) + second_operand[i])\n",
        "\n",
        "    for i in range(len(first_operand)):\n",
        "        third_line.append(\"-\"*(max(len(first_operand[i]), len(second_operand[i])) + 2))\n",
        "\n",
        "    if answer:\n",
        "        for i in range(len(first_operand)):\n",
        "            if operator[i] == \"+\":\n",
        "                ans = str(int(first_operand[i]) + int(second_operand[i]))\n",
        "            else:\n",
        "                ans = str(int(first_operand[i]) - int(second_operand[i]))\n",
        "\n",
        "            if len(ans) > max(len(first_operand[i]), len(second_operand[i])):\n",
        "                fourth_line.append(\" \" + ans)\n",
        "            else:\n",
        "                fourth_line.append(\" \"*(max(len(first_operand[i]), len(second_operand[i])) - len(ans) + 2) + ans)\n",
        "        arranged_problems = \"    \".join(first_line) + \"\\n\" + \"    \".join(second_line) + \"\\n\" + \"    \".join(third_line) + \"\\n\" + \"    \".join(fourth_line)\n",
        "    else:\n",
        "        arranged_problems = \"    \".join(first_line) + \"\\n\" + \"    \".join(second_line) + \"\\n\" + \"    \".join(third_line)\n",
        "    return arranged_problems"
      ]
    },
    {
      "cell_type": "code",
      "source": [
        ""
      ],
      "metadata": {
        "id": "SHPzusPY-aJX"
      },
      "execution_count": null,
      "outputs": []
    },
    {
      "cell_type": "code",
      "source": [
        ""
      ],
      "metadata": {
        "id": "5k7GwzMr-aLo"
      },
      "execution_count": null,
      "outputs": []
    },
    {
      "cell_type": "code",
      "source": [
        ""
      ],
      "metadata": {
        "id": "dRo9r3oe-aPj"
      },
      "execution_count": null,
      "outputs": []
    }
  ]
}