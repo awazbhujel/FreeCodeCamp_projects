{
  "nbformat": 4,
  "nbformat_minor": 0,
  "metadata": {
    "colab": {
      "name": "shape_calculator.ipynb",
      "provenance": [],
      "authorship_tag": "ABX9TyOJXZAXvnKf/dN7BQgZ1gW3"
    },
    "kernelspec": {
      "name": "python3",
      "display_name": "Python 3"
    },
    "language_info": {
      "name": "python"
    }
  },
  "cells": [
    {
      "cell_type": "code",
      "execution_count": 2,
      "metadata": {
        "id": "dg8UzP8_UBJj"
      },
      "outputs": [],
      "source": [
        "class Rectangle:\n",
        "\n",
        "  def __init__(self, width, height):\n",
        "    self.width = width\n",
        "    self.height = height\n",
        "\n",
        "  def __str__(self):\n",
        "    return \"Rectangle(width=\" + str(self.width) + \\\n",
        "           \", height=\" + str(self.height) + \")\"\n",
        "\n",
        "  def set_width(self, width):\n",
        "    self.width = width\n",
        "\n",
        "  def set_height(self, height):\n",
        "    self.height = height\n",
        "\n",
        "  def get_area(self):\n",
        "    return self.width * self.height\n",
        "\n",
        "  def get_perimeter(self):\n",
        "    return 2 * (self.width + self.height)\n",
        "\n",
        "  def get_diagonal(self):\n",
        "    return (self.width ** 2 + self.height ** 2) ** .5\n",
        "\n",
        "  def get_picture(self):\n",
        "    if self.width > 50 or self.height > 50:\n",
        "      return \"Too big for picture.\"\n",
        "    rectangle = (\"*\" * self.width + \"\\n\") * self.height\n",
        "    return rectangle\n",
        "\n",
        "  def get_amount_inside(self, shape):\n",
        "    max_width = self.width // shape.width\n",
        "    max_height = self.height // shape.height\n",
        "    return max_width * max_height\n",
        "\n",
        "\n",
        "class Square(Rectangle):\n",
        "\n",
        "  def __init__(self, length):\n",
        "    super().__init__(length, length)\n",
        "\n",
        "  def __str__(self):\n",
        "    return \"Square(side=\" + str(self.width) + \")\"\n",
        "\n",
        "  def set_side(self, side):\n",
        "    self.width = side\n",
        "    self.height = side\n",
        "\n",
        "  def set_width(self, side):\n",
        "    self.width = side\n",
        "    self.height = side\n",
        "\n",
        "  def set_height(self, side):\n",
        "    self.width = side\n",
        "    self.height = side"
      ]
    }
  ]
}