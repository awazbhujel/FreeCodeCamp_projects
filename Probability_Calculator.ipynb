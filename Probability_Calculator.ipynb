{
  "nbformat": 4,
  "nbformat_minor": 0,
  "metadata": {
    "colab": {
      "name": "Probability_Calculator.ipynb",
      "provenance": [],
      "collapsed_sections": [],
      "authorship_tag": "ABX9TyPw9YzcdVU3AHO7QqlKmluH"
    },
    "kernelspec": {
      "name": "python3",
      "display_name": "Python 3"
    },
    "language_info": {
      "name": "python"
    }
  },
  "cells": [
    {
      "cell_type": "code",
      "execution_count": 3,
      "metadata": {
        "id": "dg8UzP8_UBJj"
      },
      "outputs": [],
      "source": [
        "import copy\n",
        "import random\n",
        "# Consider using the modules imported above.\n",
        "\n",
        "class Hat:\n",
        "\n",
        "  def __init__(self, **kwargs):\n",
        "    self.contents = []\n",
        "    for key, value in kwargs.items():\n",
        "      for _ in range(value):\n",
        "        self.contents.append(key)\n",
        "\n",
        "  def draw(self, number):\n",
        "    if number > len(self.contents):\n",
        "      return self.contents\n",
        "    balls = []\n",
        "    for _ in range(number):\n",
        "      choice = random.randrange(len(self.contents))\n",
        "      balls.append(self.contents.pop(choice))\n",
        "    return balls\n",
        "\n",
        "def experiment(hat, expected_balls, num_balls_drawn, num_experiments):\n",
        "\n",
        "  expected_no_of_balls = []\n",
        "  for key in expected_balls:\n",
        "      expected_no_of_balls.append(expected_balls[key])\n",
        "  successes = 0\n",
        "\n",
        "  for _ in range(num_experiments):\n",
        "    new_hat = copy.deepcopy(hat)\n",
        "    balls = new_hat.draw(num_balls_drawn)\n",
        "\n",
        "    no_of_balls = []\n",
        "    for key in expected_balls:\n",
        "      no_of_balls.append(balls.count(key))\n",
        "\n",
        "    if no_of_balls >= expected_no_of_balls:\n",
        "      successes += 1\n",
        "\n",
        "  return successes/num_experiments"
      ]
    }
  ]
}