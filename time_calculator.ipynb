{
  "nbformat": 4,
  "nbformat_minor": 0,
  "metadata": {
    "colab": {
      "name": "time_calculator.ipynb",
      "provenance": [],
      "collapsed_sections": [],
      "authorship_tag": "ABX9TyNkC0HxRSU307nM4vC4KgDh"
    },
    "kernelspec": {
      "name": "python3",
      "display_name": "Python 3"
    },
    "language_info": {
      "name": "python"
    }
  },
  "cells": [
    {
      "cell_type": "code",
      "execution_count": null,
      "metadata": {
        "id": "omaSTQ1ITcDh"
      },
      "outputs": [],
      "source": [
        "def add_time(start, duration, starting_day=\"\"):\n",
        "    # Separte the start into hours and minutes\n",
        "    pieces = start.split()\n",
        "    time = pieces[0].split(\":\")\n",
        "    end = pieces[1]\n",
        "\n",
        "    # Calculate 24-hour clock format\n",
        "    if end == \"PM\" :\n",
        "        hour = int(time[0]) + 12\n",
        "        time[0] = str(hour)\n",
        "    \n",
        "    # Separate the duration into hours and minutes\n",
        "    dur_time = duration.split(\":\")\n",
        "\n",
        "    # Add hours and minutes\n",
        "    new_hour = int(time[0]) + int(dur_time[0])\n",
        "    new_minutes = int(time[1]) + int(dur_time[1])\n",
        "\n",
        "    if new_minutes >= 60 :\n",
        "        hours_add = new_minutes // 60\n",
        "        new_minutes -= hours_add * 60\n",
        "        new_hour += hours_add\n",
        "\n",
        "    days_add = 0\n",
        "    if new_hour > 24 :\n",
        "        days_add = new_hour // 24\n",
        "        new_hour -= days_add * 24\n",
        "    \n",
        "    # Find AM and PM\n",
        "    # Return to 12-hour clock format\n",
        "    if new_hour > 0 and new_hour < 12 :\n",
        "        end = \"AM\"\n",
        "    elif new_hour == 12 :\n",
        "        end = \"PM\"\n",
        "    elif new_hour > 12 :\n",
        "        end = \"PM\"\n",
        "        new_hour -= 12\n",
        "    else : # new_hour == 0\n",
        "        end = \"AM\"\n",
        "        new_hour += 12\n",
        "\n",
        "    if days_add > 0 :\n",
        "        if days_add == 1 :\n",
        "            days_later = \" (next day)\"\n",
        "        else :\n",
        "            days_later = \" (\" + str(days_add) + \" days later)\"\n",
        "    else :\n",
        "        days_later = \"\"\n",
        "\n",
        "    week_days = (\"Monday\", \"Tuesday\", \"Wednesday\", \"Thursday\", \"Friday\", \"Saturday\", \"Sunday\")\n",
        "\n",
        "    if starting_day :\n",
        "        weeks = days_add // 7\n",
        "        i = week_days.index(starting_day.lower().capitalize()) + (days_add - 7 * weeks)\n",
        "        if i > 6 :\n",
        "            i -= 7\n",
        "        day = \", \" + week_days[i]\n",
        "    else :\n",
        "        day = \"\"\n",
        "    \n",
        "    new_time= str(new_hour) + \":\" + \\\n",
        "        (str(new_minutes) if new_minutes > 9 else (\"0\" + str(new_minutes))) + \\\n",
        "        \" \" + end + day + days_later\n",
        "    \n",
        "    return new_time"
      ]
    }
  ]
}